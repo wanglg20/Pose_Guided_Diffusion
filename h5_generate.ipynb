{
 "cells": [
  {
   "cell_type": "code",
   "execution_count": 2,
   "metadata": {},
   "outputs": [
    {
     "name": "stdout",
     "output_type": "stream",
     "text": [
      "torch.Size([2, 1024, 1024])\n",
      "torch.Size([2, 64, 1024])\n"
     ]
    }
   ],
   "source": [
    "import torch\n",
    "import h5py\n",
    "import os\n",
    "from PIL import Image\n",
    "import numpy as np\n",
    "\n",
    "from torch.utils.data import DataLoader\n",
    "from dataset import *\n",
    "\n",
    "\n",
    "img_list = []\n",
    "label_list = []\n",
    "for i, (img, label) in enumerate(train_set):\n",
    "    img_list.append(img)\n",
    "    label_list.append(label)\n",
    "    if (i+1) % nums_per_h5 == 0:\n",
    "        data = np.array(img_list)\n",
    "        label = np.array(label_list)\n",
    "        with h5py.File('h5/test_{}.h5'.format(i//nums_per_h5), 'w') as f:\n",
    "            f.create_dataset('data', data = data)\n",
    "            f.create_dataset('label', data = label)\n",
    "        img_list = []\n",
    "        label_list = []\n",
    "    \n",
    "    if i == len(train_set)-1:\n",
    "        data = np.array(img_list)\n",
    "        label = np.array(label_list)\n",
    "        with h5py.File('h5/test_{}.h5'.format(i//nums_per_h5+1), 'w') as f:\n",
    "            f.create_dataset('data', data = data)\n",
    "            f.create_dataset('label', data = label)\n",
    "        img_list = []\n",
    "        label_list = []\n",
    "\n"
   ]
  },
  {
   "cell_type": "code",
   "execution_count": null,
   "metadata": {},
   "outputs": [],
   "source": []
  }
 ],
 "metadata": {
  "kernelspec": {
   "display_name": "Python 3.9.17 ('zero123')",
   "language": "python",
   "name": "python3"
  },
  "language_info": {
   "codemirror_mode": {
    "name": "ipython",
    "version": 3
   },
   "file_extension": ".py",
   "mimetype": "text/x-python",
   "name": "python",
   "nbconvert_exporter": "python",
   "pygments_lexer": "ipython3",
   "version": "3.9.17"
  },
  "orig_nbformat": 4,
  "vscode": {
   "interpreter": {
    "hash": "b7fef7d32d27d7a6c28eebb43bd4c4a58af0db382635305f69da271da1e7bd3a"
   }
  }
 },
 "nbformat": 4,
 "nbformat_minor": 2
}
