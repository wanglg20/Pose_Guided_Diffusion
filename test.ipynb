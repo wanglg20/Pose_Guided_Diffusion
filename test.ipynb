{
 "cells": [
  {
   "cell_type": "code",
   "execution_count": 1,
   "metadata": {},
   "outputs": [],
   "source": [
    "info_root = 'dataset/RealEstate10K'\n",
    "mode = 'test'\n",
    "data_root = 'dataset/RealEstate_raw_data/test/test'\n"
   ]
  },
  {
   "cell_type": "code",
   "execution_count": 2,
   "metadata": {},
   "outputs": [
    {
     "name": "stderr",
     "output_type": "stream",
     "text": [
      "c:\\Users\\Administrator\\anaconda3\\envs\\zero123\\lib\\site-packages\\tqdm\\auto.py:21: TqdmWarning: IProgress not found. Please update jupyter and ipywidgets. See https://ipywidgets.readthedocs.io/en/stable/user_install.html\n",
      "  from .autonotebook import tqdm as notebook_tqdm\n"
     ]
    }
   ],
   "source": [
    "from dataset.dataset import *\n",
    "\n",
    "ds = RealEstate_dataset(info_root, data_root, mode)"
   ]
  },
  {
   "cell_type": "code",
   "execution_count": 4,
   "metadata": {},
   "outputs": [
    {
     "name": "stdout",
     "output_type": "stream",
     "text": [
      "dataset/RealEstate10K/test//0017ce4c6a39d122.txt\n",
      "torch.Size([1, 3, 128, 128]) torch.Size([1, 3, 128, 128]) torch.Size([1, 3, 3]) torch.Size([1, 3, 3]) torch.Size([1, 3])\n"
     ]
    }
   ],
   "source": [
    "from torch.utils.data import DataLoader\n",
    "\n",
    "batch_size = 1\n",
    "loader = DataLoader(ds, batch_size=batch_size, shuffle=True, num_workers=0)\n",
    "\n",
    "for idx, data in enumerate(loader):\n",
    "    print(data[0].shape, data[1].shape, data[2].shape, data[3].shape, data[4].shape)\n",
    "    break\n"
   ]
  },
  {
   "cell_type": "code",
   "execution_count": null,
   "metadata": {},
   "outputs": [],
   "source": []
  }
 ],
 "metadata": {
  "kernelspec": {
   "display_name": "Python 3.9.17 ('zero123')",
   "language": "python",
   "name": "python3"
  },
  "language_info": {
   "codemirror_mode": {
    "name": "ipython",
    "version": 3
   },
   "file_extension": ".py",
   "mimetype": "text/x-python",
   "name": "python",
   "nbconvert_exporter": "python",
   "pygments_lexer": "ipython3",
   "version": "3.9.17"
  },
  "orig_nbformat": 4,
  "vscode": {
   "interpreter": {
    "hash": "b7fef7d32d27d7a6c28eebb43bd4c4a58af0db382635305f69da271da1e7bd3a"
   }
  }
 },
 "nbformat": 4,
 "nbformat_minor": 2
}
